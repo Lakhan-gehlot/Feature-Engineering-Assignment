{
 "cells": [
  {
   "cell_type": "markdown",
   "id": "ec0523dc-0b0e-4190-9387-6373450ebd87",
   "metadata": {},
   "source": [
    "What is a parameter?"
   ]
  },
  {
   "cell_type": "markdown",
   "id": "8be4d500-8dc0-4368-ac4f-b8304bbd226f",
   "metadata": {},
   "source": [
    "ans :- In machine learning, a parameter is an internal configuration variable of a model whose value is learned or estimated from the training data. These values define the specific functionality and skill of the model for a given problem."
   ]
  },
  {
   "cell_type": "markdown",
   "id": "9e517553-bd59-40f8-a181-b2f7ff2e955b",
   "metadata": {},
   "source": [
    "2.) What is correlation?"
   ]
  },
  {
   "cell_type": "markdown",
   "id": "87bd8698-f280-49b1-b5ef-daa2019da468",
   "metadata": {},
   "source": [
    "Ans :- Correlation is a statistical measure that describes the strength of a relationship between two variables, indicating how much they tend to change together"
   ]
  },
  {
   "cell_type": "markdown",
   "id": "6df23b58-7f92-452c-a6d7-cc68d46e501e",
   "metadata": {},
   "source": [
    "What does negative correlation mean?\n"
   ]
  },
  {
   "cell_type": "markdown",
   "id": "cd633d33-5100-4aa3-8ad9-c96b1ddf78ec",
   "metadata": {},
   "source": [
    "Ans:- Negative correlation describes an inverse relationship between two variables, meaning that when one variable increases, the other decreases, and vice versa"
   ]
  },
  {
   "cell_type": "markdown",
   "id": "59d037ce-6cb5-4779-9bfb-106478095d98",
   "metadata": {},
   "source": [
    "3.) Define Machine Learning. What are the main components in Machine Learning?"
   ]
  },
  {
   "cell_type": "markdown",
   "id": "1b8473d7-718f-4218-8878-d53c17b001e1",
   "metadata": {},
   "source": [
    "Ans:- Machine learning (ML) is a field of Artificial Intelligence (AI) focused on teaching computers to learn from data and improve with experience, without explicit programming. The main components are Data, which is the fuel for learning; Algorithms, which are the instructions for processing data and making decisions; and the Model, the output of the training process that finds patterns and makes predictions. "
   ]
  },
  {
   "cell_type": "markdown",
   "id": "0062365d-82be-4b3d-b899-316e35bed103",
   "metadata": {},
   "source": [
    "4.) How does loss value help in determining whether the model is good or not?"
   ]
  },
  {
   "cell_type": "markdown",
   "id": "f23e6c9d-9b04-4b32-a4d4-e42b6aa23e4b",
   "metadata": {},
   "source": [
    "Ans:- \n",
    "A lower loss value indicates a better-performing model, as it signifies a smaller difference between the model's predictions and the actual (ground truth) values. "
   ]
  },
  {
   "cell_type": "markdown",
   "id": "c0c5e39a-514e-4a6e-a099-a61dc977bac1",
   "metadata": {},
   "source": [
    "5.) What are continuous and categorical variables?"
   ]
  },
  {
   "cell_type": "markdown",
   "id": "232fa763-665f-4abd-83a0-54bbdfe780bf",
   "metadata": {},
   "source": [
    "Ans:- Categorical variables represent distinct groups or categories, such as hair color or gender, with a finite number of possible values. Continuous variables, in contrast, can take on any value within a given range and are measurable, like a person's height or the temperature of a room. "
   ]
  },
  {
   "cell_type": "markdown",
   "id": "035522da-bf01-4d12-b403-daeac3488295",
   "metadata": {},
   "source": [
    "6.) How do we handle categorical variables in Machine Learning? What are the common t echniques?"
   ]
  },
  {
   "cell_type": "markdown",
   "id": "6c009906-3555-4dd3-8c4f-12659f7b6679",
   "metadata": {},
   "source": [
    "Ans:- One-Hot Encoding. One-hot encoding is a popular technique for handling categorical data in machine learning. ...\n",
    "Label Encoding. ..."
   ]
  },
  {
   "cell_type": "markdown",
   "id": "fb8367ed-fb9e-4d5c-9fc6-afefdc2419ce",
   "metadata": {},
   "source": [
    "7.)What do you mean by training and testing a dataset?"
   ]
  },
  {
   "cell_type": "markdown",
   "id": "a07feb60-3fab-4463-8ecb-91601c7a564b",
   "metadata": {},
   "source": [
    "Ans:- The training dataset contains all the samples used in training the network, i.e, these samples will influence the weights of the network. The testing dataset contains all the samples that have not been seen by the model."
   ]
  },
  {
   "cell_type": "markdown",
   "id": "1322a501-22cd-4fab-b6c8-bb43883e2b07",
   "metadata": {},
   "source": [
    "8.) What is sklearn.preprocessing?"
   ]
  },
  {
   "cell_type": "markdown",
   "id": "712f4529-4e42-4567-9e4e-03b19cdd34f5",
   "metadata": {},
   "source": [
    "Ans:- sklearn.preprocessing is a module within the scikit-learn library in Python"
   ]
  },
  {
   "cell_type": "markdown",
   "id": "5355754c-f62b-4df1-bac4-ab4dce29ef22",
   "metadata": {},
   "source": [
    "9.) What is a Test set?"
   ]
  },
  {
   "cell_type": "markdown",
   "id": "c22915bb-834c-419c-9a4f-44fcb2ee8e9d",
   "metadata": {},
   "source": [
    "Ans:- A test set is a separate portion of a dataset used to evaluate the performance of a fully trained model or system, providing an unbiased measure of its generalization ability on unseen data"
   ]
  },
  {
   "cell_type": "markdown",
   "id": "46ca2d26-d160-43fa-b433-aab19205a1d7",
   "metadata": {},
   "source": [
    "10.) How do we split data for model fitting (training and testing) in Python?"
   ]
  },
  {
   "cell_type": "markdown",
   "id": "f6ecc677-7473-44d8-8e5d-4e15a9d1aa39",
   "metadata": {},
   "source": [
    "Ans:- Data splitting for model fitting in Python is commonly performed using the train_test_split function from the sklearn.model_selection module."
   ]
  },
  {
   "cell_type": "markdown",
   "id": "92f488ca-6169-4f09-879a-4343bfb8c264",
   "metadata": {},
   "source": [
    "How do you approach a Machine Learning problem?"
   ]
  },
  {
   "cell_type": "markdown",
   "id": "9d582cf7-a265-4e4d-9659-657be631daae",
   "metadata": {},
   "source": [
    "Ans:- To approach a machine learning problem, begin by clearly defining the problem and its success criteria in non-ML terms. Next, collect and prepare the necessary data, followed by exploratory data analysis (EDA) to understand its patterns and quality. Then, perform feature engineering, select an appropriate model, and train it using training data. Finally, evaluate the model's performance using unseen data, tune its hyperparameters, and deploy it if satisfactory"
   ]
  },
  {
   "cell_type": "markdown",
   "id": "fe5571d8-53c6-4961-9b48-3a1d9773f362",
   "metadata": {},
   "source": [
    "11.) Why do we have to perform EDA before fitting a model to the data?"
   ]
  },
  {
   "cell_type": "markdown",
   "id": "f372d53d-85b9-443f-a08e-a1bc9bd469a5",
   "metadata": {},
   "source": [
    "Ans:- \n",
    "You must perform Exploratory Data Analysis (EDA) before fitting a model to the data to understand its structure, identify issues like missing values or outliers, discover patterns and relationships between variables, and ensure data quality,\n"
   ]
  },
  {
   "cell_type": "markdown",
   "id": "000f71f1-11af-4c3f-aa26-e96491cbcf58",
   "metadata": {},
   "source": [
    "12.) What is correlation?"
   ]
  },
  {
   "cell_type": "markdown",
   "id": "a185c31f-c193-4a49-b490-ea7f469b6ccb",
   "metadata": {},
   "source": [
    "Ans:- Correlation is a statistical measure that describes the strength of a relationship between two variables, indicating how much they tend to change together"
   ]
  },
  {
   "cell_type": "markdown",
   "id": "5edaad59-efa1-443f-98b9-8e15ca673220",
   "metadata": {},
   "source": [
    "13.) What does negative correlation mean?"
   ]
  },
  {
   "cell_type": "markdown",
   "id": "dfc27eb1-3a97-454e-9d04-8e52bfb7f816",
   "metadata": {},
   "source": [
    "Ans:- Negative correlation describes an inverse relationship between two variables, meaning that when one variable increases, the other decreases, and vice versa"
   ]
  },
  {
   "cell_type": "markdown",
   "id": "efb87354-2307-47f8-991a-cc2a17e13eb1",
   "metadata": {},
   "source": [
    "14.) How can you find correlation between variables in Python"
   ]
  },
  {
   "cell_type": "markdown",
   "id": "fd1d1a65-b53c-44e7-a896-481c16b2d944",
   "metadata": {},
   "source": [
    "Ans:- You can find the correlation between variables in Python primarily using the pandas, numpy, and scipy.stats libraries."
   ]
  },
  {
   "cell_type": "markdown",
   "id": "78f54c54-07f6-44cc-8067-5abf3de20265",
   "metadata": {},
   "source": [
    "15.) What is causation? Explain difference between correlation and causation with an example."
   ]
  },
  {
   "cell_type": "markdown",
   "id": "7db2f4db-51eb-42e5-8e1f-09b3bc58a52c",
   "metadata": {},
   "source": [
    "Ans:- \n",
    "Causation is a direct cause-and-effect relationship, where one event directly leads to another, while correlation is a relationship or association between two variables where they tend to change together but one does not necessarily cause the other. For example, there is a correlation between ice cream sales and sunburn, as both increase in the summer, but the actual cause is the warm weather and sun, which leads to both increased ice cream consumption and more sun exposur"
   ]
  },
  {
   "cell_type": "markdown",
   "id": "597716b3-c19a-49b9-bfd0-e9b386c574f7",
   "metadata": {},
   "source": [
    "16.) What is an Optimizer? What are different types of optimizers? Explain each with an example."
   ]
  },
  {
   "cell_type": "markdown",
   "id": "46792b88-a316-4b64-b0a6-bd8e2bc1e5d0",
   "metadata": {},
   "source": [
    "Ans:- An optimizer in machine learning is an algorithm or method used to adjust the parameters (typically weights and biases) of a model to minimize its loss function during training. The loss function quantifies the discrepancy between the model's predictions and the actual target values. Optimizers iteratively update the model parameters in a direction that reduces this loss, aiming to find the optimal set of parameters that yield the best performance. "
   ]
  },
  {
   "cell_type": "markdown",
   "id": "775f0736-6651-4890-8653-01fafc878687",
   "metadata": {},
   "source": [
    "17.) What is sklearn.linear_model ?"
   ]
  },
  {
   "cell_type": "markdown",
   "id": "ebd30894-b193-46fb-a04a-9c9150dbbd79",
   "metadata": {},
   "source": [
    "Ans:- sklearn.linear_model is a sub-module within the Scikit-learn (sklearn) library in Python,"
   ]
  },
  {
   "cell_type": "markdown",
   "id": "7c0cc85e-d439-4c03-877f-89cc643ac639",
   "metadata": {},
   "source": [
    "18.) What does model.fit() do? What arguments must be given?"
   ]
  },
  {
   "cell_type": "markdown",
   "id": "6ad61360-beb2-4932-a1ed-a4d0c3ef639c",
   "metadata": {},
   "source": [
    "Ans :- The model.fit() method, commonly found in machine learning libraries like Keras and Scikit-learn, is used to train a machine learning model. "
   ]
  },
  {
   "cell_type": "markdown",
   "id": "68f18e94-1800-4ce3-9bad-9e44f9f1de3c",
   "metadata": {},
   "source": [
    "19.) What does model.predict() do? What arguments must be given?"
   ]
  },
  {
   "cell_type": "markdown",
   "id": "2096fbd7-5ae7-4ec1-b91f-2eaa5ef169cd",
   "metadata": {},
   "source": [
    "Ans:- The model.predict() method in machine learning frameworks like Keras or scikit-learn is used to generate predictions from a trained model based on new, unseen input data."
   ]
  },
  {
   "cell_type": "markdown",
   "id": "a1039e89-5ac7-4e5a-b99a-e406d2d6b531",
   "metadata": {},
   "source": [
    "20.) What are continuous and categorical variables?"
   ]
  },
  {
   "cell_type": "markdown",
   "id": "df7ac5a2-31be-42b6-ab5c-70233db8f72b",
   "metadata": {},
   "source": [
    "Ans:- Categorical variables represent distinct groups or categories, such as hair color or gender, with a finite number of possible values. Continuous variables, in contrast, can take on any value within a given range and are measurable, like a person's height or the temperature of a room"
   ]
  },
  {
   "cell_type": "markdown",
   "id": "30a75d47-22ba-4073-80c7-c22576b861cf",
   "metadata": {},
   "source": [
    "21.) What is feature scaling? How does it help in Machine Learning?"
   ]
  },
  {
   "cell_type": "markdown",
   "id": "d0ae5981-1e74-4bc2-bcc8-ea8faedce666",
   "metadata": {},
   "source": [
    "Ans:- Feature scaling is a data preprocessing technique in machine learning that transforms numerical features to a common scale, preventing features with larger ranges from dominating those with smaller ranges."
   ]
  },
  {
   "cell_type": "markdown",
   "id": "bd4441db-1eac-4719-abdf-7bc8d61899f8",
   "metadata": {},
   "source": [
    "22.) How do we perform scaling in Python?"
   ]
  },
  {
   "cell_type": "markdown",
   "id": "5b3a3d01-6ba3-45da-9d95-f46391996a0c",
   "metadata": {},
   "source": [
    "Ans:- In Python, data scaling is primarily performed using the sklearn.preprocessing module from the scikit-learn library."
   ]
  },
  {
   "cell_type": "markdown",
   "id": "e7dddcc0-0e2c-4aa9-adb8-aaaf8ef7fa83",
   "metadata": {},
   "source": [
    "23.) What is sklearn.preprocessing?"
   ]
  },
  {
   "cell_type": "markdown",
   "id": "fad9b81e-3ea5-4df5-9206-9ef103ba3127",
   "metadata": {},
   "source": [
    "Ans:- The sklearn.preprocessing module in scikit-learn is a collection of tools and functions designed to prepare raw data for machine learning algorithms"
   ]
  },
  {
   "cell_type": "markdown",
   "id": "306cdc36-017b-4af0-9d88-1baca514508a",
   "metadata": {},
   "source": [
    "24.) How do we split data for model fitting (training and testing) in Python?"
   ]
  },
  {
   "cell_type": "markdown",
   "id": "3015d914-5d3a-4356-9742-208dfa72ddf3",
   "metadata": {},
   "source": [
    "Ans:- Data splitting for model fitting in Python, specifically for training and testing, is typically achieved using the train_test_split function from the sklearn.model_selection module in scikit-learn."
   ]
  },
  {
   "cell_type": "code",
   "execution_count": null,
   "id": "d0c06ca8-d702-45b2-a9ea-be6e980dabc7",
   "metadata": {},
   "outputs": [],
   "source": []
  }
 ],
 "metadata": {
  "kernelspec": {
   "display_name": "Python 3 (ipykernel)",
   "language": "python",
   "name": "python3"
  },
  "language_info": {
   "codemirror_mode": {
    "name": "ipython",
    "version": 3
   },
   "file_extension": ".py",
   "mimetype": "text/x-python",
   "name": "python",
   "nbconvert_exporter": "python",
   "pygments_lexer": "ipython3",
   "version": "3.13.5"
  }
 },
 "nbformat": 4,
 "nbformat_minor": 5
}
